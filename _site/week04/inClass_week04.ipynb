{
 "cells": [
  {
   "cell_type": "code",
   "execution_count": 1,
   "metadata": {},
   "outputs": [],
   "source": [
    "%matplotlib inline\n",
    "import matplotlib.pyplot as plt\n",
    "import numpy as np"
   ]
  },
  {
   "cell_type": "code",
   "execution_count": 2,
   "metadata": {},
   "outputs": [],
   "source": [
    "import ipywidgets"
   ]
  },
  {
   "cell_type": "code",
   "execution_count": 5,
   "metadata": {},
   "outputs": [
    {
     "data": {
      "application/vnd.jupyter.widget-view+json": {
       "model_id": "db42fa60e27748ea844a84bd22de9197",
       "version_major": 2,
       "version_minor": 0
      },
      "text/plain": [
       "interactive(children=(Dropdown(description='name', options=('Linda', 'Tina', 'Louise'), value='Linda'), Output…"
      ]
     },
     "metadata": {},
     "output_type": "display_data"
    }
   ],
   "source": [
    "@ipywidgets.interact(name = ['Linda', 'Tina', 'Louise'])\n",
    "def print_name(name):\n",
    "    print(name)"
   ]
  },
  {
   "cell_type": "code",
   "execution_count": 6,
   "metadata": {},
   "outputs": [
    {
     "data": {
      "application/vnd.jupyter.widget-view+json": {
       "model_id": "ae371c1d153e4941b045026d20b16d4c",
       "version_major": 2,
       "version_minor": 0
      },
      "text/plain": [
       "IntText(value=0)"
      ]
     },
     "metadata": {},
     "output_type": "display_data"
    }
   ],
   "source": [
    "# store a widget in a variable\n",
    "itext = ipywidgets.IntText()\n",
    "itext"
   ]
  },
  {
   "cell_type": "code",
   "execution_count": 9,
   "metadata": {},
   "outputs": [],
   "source": [
    "itext.value = 20"
   ]
  },
  {
   "cell_type": "code",
   "execution_count": 12,
   "metadata": {},
   "outputs": [
    {
     "data": {
      "application/vnd.jupyter.widget-view+json": {
       "model_id": "df4775385ea34d78ae1346eab270ef2d",
       "version_major": 2,
       "version_minor": 0
      },
      "text/plain": [
       "IntProgress(value=20)"
      ]
     },
     "metadata": {},
     "output_type": "display_data"
    }
   ],
   "source": [
    "# progress bar\n",
    "ip = ipywidgets.IntProgress(value=20)\n",
    "ip"
   ]
  },
  {
   "cell_type": "code",
   "execution_count": 13,
   "metadata": {},
   "outputs": [
    {
     "data": {
      "application/vnd.jupyter.widget-view+json": {
       "model_id": "1f0dfe3dc40840a6974ad0b5264966eb",
       "version_major": 2,
       "version_minor": 0
      },
      "text/plain": [
       "IntSlider(value=0)"
      ]
     },
     "metadata": {},
     "output_type": "display_data"
    }
   ],
   "source": [
    "irange = ipywidgets.IntSlider(min = 0, max =100, step=1)\n",
    "irange"
   ]
  },
  {
   "cell_type": "code",
   "execution_count": 14,
   "metadata": {},
   "outputs": [
    {
     "data": {
      "text/plain": [
       "['_dom_classes',\n",
       " '_model_module',\n",
       " '_model_module_version',\n",
       " '_model_name',\n",
       " '_view_count',\n",
       " '_view_module',\n",
       " '_view_module_version',\n",
       " '_view_name',\n",
       " 'bar_style',\n",
       " 'description',\n",
       " 'description_tooltip',\n",
       " 'layout',\n",
       " 'max',\n",
       " 'min',\n",
       " 'orientation',\n",
       " 'style',\n",
       " 'value']"
      ]
     },
     "execution_count": 14,
     "metadata": {},
     "output_type": "execute_result"
    }
   ],
   "source": [
    "ip.keys"
   ]
  },
  {
   "cell_type": "code",
   "execution_count": 15,
   "metadata": {},
   "outputs": [
    {
     "data": {
      "text/plain": [
       "['_dom_classes',\n",
       " '_model_module',\n",
       " '_model_module_version',\n",
       " '_model_name',\n",
       " '_view_count',\n",
       " '_view_module',\n",
       " '_view_module_version',\n",
       " '_view_name',\n",
       " 'continuous_update',\n",
       " 'description',\n",
       " 'description_tooltip',\n",
       " 'disabled',\n",
       " 'layout',\n",
       " 'max',\n",
       " 'min',\n",
       " 'orientation',\n",
       " 'readout',\n",
       " 'readout_format',\n",
       " 'step',\n",
       " 'style',\n",
       " 'value']"
      ]
     },
     "execution_count": 15,
     "metadata": {},
     "output_type": "execute_result"
    }
   ],
   "source": [
    "irange.keys"
   ]
  },
  {
   "cell_type": "code",
   "execution_count": 17,
   "metadata": {},
   "outputs": [
    {
     "data": {
      "text/plain": [
       "Link(source=(IntProgress(value=20), 'value'), target=(IntSlider(value=72), 'value'))"
      ]
     },
     "metadata": {},
     "output_type": "display_data"
    }
   ],
   "source": [
    "ipywidgets.jslink( (ip, 'value'), (irange, 'value') )"
   ]
  },
  {
   "cell_type": "code",
   "execution_count": 18,
   "metadata": {},
   "outputs": [
    {
     "data": {
      "application/vnd.jupyter.widget-view+json": {
       "model_id": "df4775385ea34d78ae1346eab270ef2d",
       "version_major": 2,
       "version_minor": 0
      },
      "text/plain": [
       "IntProgress(value=20)"
      ]
     },
     "metadata": {},
     "output_type": "display_data"
    }
   ],
   "source": [
    "ip"
   ]
  },
  {
   "cell_type": "code",
   "execution_count": 19,
   "metadata": {},
   "outputs": [
    {
     "data": {
      "application/vnd.jupyter.widget-view+json": {
       "model_id": "1f0dfe3dc40840a6974ad0b5264966eb",
       "version_major": 2,
       "version_minor": 0
      },
      "text/plain": [
       "IntSlider(value=20)"
      ]
     },
     "metadata": {},
     "output_type": "display_data"
    }
   ],
   "source": [
    "irange"
   ]
  },
  {
   "cell_type": "code",
   "execution_count": 20,
   "metadata": {},
   "outputs": [
    {
     "data": {
      "application/vnd.jupyter.widget-view+json": {
       "model_id": "558a6efd102d437d9243a4b5dd699562",
       "version_major": 2,
       "version_minor": 0
      },
      "text/plain": [
       "VBox(children=(IntProgress(value=47), IntSlider(value=47)))"
      ]
     },
     "metadata": {},
     "output_type": "display_data"
    }
   ],
   "source": [
    "ipywidgets.VBox([ip, irange])"
   ]
  },
  {
   "cell_type": "code",
   "execution_count": 21,
   "metadata": {},
   "outputs": [
    {
     "data": {
      "application/vnd.jupyter.widget-view+json": {
       "model_id": "cec0fdfd3e714767b137b99fa3981263",
       "version_major": 2,
       "version_minor": 0
      },
      "text/plain": [
       "VBox(children=(IntProgress(value=0), IntSlider(value=0)))"
      ]
     },
     "metadata": {},
     "output_type": "display_data"
    }
   ],
   "source": [
    "# using \"link\" instead of \"jslink\"\n",
    "ip2 = ipywidgets.IntProgress()\n",
    "irange2 = ipywidgets.IntSlider(min=0, max=100, step=1)\n",
    "ipywidgets.link( (ip2, 'value'), (irange2, 'value') )\n",
    "ipywidgets.VBox([ip2, irange2])"
   ]
  },
  {
   "cell_type": "code",
   "execution_count": 22,
   "metadata": {},
   "outputs": [
    {
     "data": {
      "application/vnd.jupyter.widget-view+json": {
       "model_id": "83417bf7c2564a5ab06edf25e1994a63",
       "version_major": 2,
       "version_minor": 0
      },
      "text/plain": [
       "Button(description='I am a button', style=ButtonStyle())"
      ]
     },
     "metadata": {},
     "output_type": "display_data"
    },
    {
     "name": "stdout",
     "output_type": "stream",
     "text": [
      "I have clicked.  Click.\n",
      "I have clicked.  Click.\n",
      "I have clicked.  Click.\n"
     ]
    }
   ],
   "source": [
    "button = ipywidgets.Button(description=\"I am a button\")\n",
    "button"
   ]
  },
  {
   "cell_type": "code",
   "execution_count": 23,
   "metadata": {},
   "outputs": [],
   "source": [
    "def say_click(event):\n",
    "    print(\"I have clicked.  Click.\")"
   ]
  },
  {
   "cell_type": "code",
   "execution_count": 24,
   "metadata": {},
   "outputs": [],
   "source": [
    "button.on_click(say_click)"
   ]
  },
  {
   "cell_type": "code",
   "execution_count": 34,
   "metadata": {},
   "outputs": [
    {
     "data": {
      "application/vnd.jupyter.widget-view+json": {
       "model_id": "9273555ec3e747dda465e0a09a2bb54c",
       "version_major": 2,
       "version_minor": 0
      },
      "text/plain": [
       "IntProgress(value=0)"
      ]
     },
     "metadata": {},
     "output_type": "display_data"
    }
   ],
   "source": [
    "# let's build a mini-interface\n",
    "ip = ipywidgets.IntProgress()\n",
    "ip"
   ]
  },
  {
   "cell_type": "code",
   "execution_count": 35,
   "metadata": {},
   "outputs": [
    {
     "data": {
      "application/vnd.jupyter.widget-view+json": {
       "model_id": "1b42aa9592044bef8a5d2838a39b64fb",
       "version_major": 2,
       "version_minor": 0
      },
      "text/plain": [
       "Button(description='+10', style=ButtonStyle())"
      ]
     },
     "metadata": {},
     "output_type": "display_data"
    }
   ],
   "source": [
    "button_plus = ipywidgets.Button(description=\"+10\")\n",
    "button_plus"
   ]
  },
  {
   "cell_type": "code",
   "execution_count": 36,
   "metadata": {},
   "outputs": [
    {
     "data": {
      "application/vnd.jupyter.widget-view+json": {
       "model_id": "75a62345ccc94365b8db90ffa5682f63",
       "version_major": 2,
       "version_minor": 0
      },
      "text/plain": [
       "Button(description='-10', style=ButtonStyle())"
      ]
     },
     "metadata": {},
     "output_type": "display_data"
    }
   ],
   "source": [
    "button_minus = ipywidgets.Button(description=\"-10\")\n",
    "button_minus"
   ]
  },
  {
   "cell_type": "code",
   "execution_count": 37,
   "metadata": {},
   "outputs": [
    {
     "data": {
      "application/vnd.jupyter.widget-view+json": {
       "model_id": "5e411b43b0154ab9b560f669505ae6fa",
       "version_major": 2,
       "version_minor": 0
      },
      "text/plain": [
       "HBox(children=(Button(description='-10', style=ButtonStyle()), IntProgress(value=0), Button(description='+10',…"
      ]
     },
     "metadata": {},
     "output_type": "display_data"
    }
   ],
   "source": [
    "ipywidgets.HBox([button_minus, ip, button_plus])"
   ]
  },
  {
   "cell_type": "code",
   "execution_count": 38,
   "metadata": {},
   "outputs": [],
   "source": [
    "def click_down(event):\n",
    "    ip.value -= 10"
   ]
  },
  {
   "cell_type": "code",
   "execution_count": 39,
   "metadata": {},
   "outputs": [],
   "source": [
    "button_minus.on_click(click_down)"
   ]
  },
  {
   "cell_type": "code",
   "execution_count": 40,
   "metadata": {},
   "outputs": [],
   "source": [
    "def click_up(event):\n",
    "    ip.value += 10\n",
    "    #print(event)\n",
    "button_plus.on_click(click_up)"
   ]
  },
  {
   "cell_type": "markdown",
   "metadata": {},
   "source": [
    "One more: color picker slider:"
   ]
  },
  {
   "cell_type": "code",
   "execution_count": 41,
   "metadata": {},
   "outputs": [
    {
     "data": {
      "application/vnd.jupyter.widget-view+json": {
       "model_id": "300744dec86848fda93053423cdffbbf",
       "version_major": 2,
       "version_minor": 0
      },
      "text/plain": [
       "IntSlider(value=0, max=10, orientation='vertical')"
      ]
     },
     "metadata": {},
     "output_type": "display_data"
    }
   ],
   "source": [
    "islider = ipywidgets.IntSlider(min = 0, max=10, step=1, orientation = 'vertical')\n",
    "islider"
   ]
  },
  {
   "cell_type": "code",
   "execution_count": 45,
   "metadata": {},
   "outputs": [],
   "source": [
    "islider.style.handle_color = '#750075'"
   ]
  },
  {
   "cell_type": "code",
   "execution_count": 46,
   "metadata": {},
   "outputs": [
    {
     "data": {
      "application/vnd.jupyter.widget-view+json": {
       "model_id": "c7b36d67a102465d9294832f33c86dcf",
       "version_major": 2,
       "version_minor": 0
      },
      "text/plain": [
       "ColorPicker(value='black')"
      ]
     },
     "metadata": {},
     "output_type": "display_data"
    }
   ],
   "source": [
    "cp = ipywidgets.ColorPicker()\n",
    "cp"
   ]
  },
  {
   "cell_type": "code",
   "execution_count": 47,
   "metadata": {},
   "outputs": [
    {
     "data": {
      "text/plain": [
       "<traitlets.traitlets.link at 0x7f8b58a53710>"
      ]
     },
     "execution_count": 47,
     "metadata": {},
     "output_type": "execute_result"
    }
   ],
   "source": [
    "ipywidgets.link( (cp, 'value'), (islider.style, 'handle_color') )"
   ]
  },
  {
   "cell_type": "code",
   "execution_count": 48,
   "metadata": {},
   "outputs": [
    {
     "data": {
      "application/vnd.jupyter.widget-view+json": {
       "model_id": "6f2b4823d4ba4a87a9ae43f8a77a19df",
       "version_major": 2,
       "version_minor": 0
      },
      "text/plain": [
       "VBox(children=(ColorPicker(value='#c6b225'), IntSlider(value=4, max=10, orientation='vertical', style=SliderSt…"
      ]
     },
     "metadata": {},
     "output_type": "display_data"
    }
   ],
   "source": [
    "ipywidgets.VBox([cp, islider])"
   ]
  },
  {
   "cell_type": "markdown",
   "metadata": {},
   "source": [
    "Let's talk a bit about traitlets:"
   ]
  },
  {
   "cell_type": "code",
   "execution_count": 49,
   "metadata": {},
   "outputs": [],
   "source": [
    "# let's make a \"normal\" class\n",
    "class MyObject():\n",
    "    name = 'unnamed'\n",
    "    age = 0"
   ]
  },
  {
   "cell_type": "code",
   "execution_count": 50,
   "metadata": {},
   "outputs": [],
   "source": [
    "my_obj = MyObject() # my_obj variable is an instance of MyObject class"
   ]
  },
  {
   "cell_type": "code",
   "execution_count": 51,
   "metadata": {},
   "outputs": [
    {
     "data": {
      "text/plain": [
       "('unnamed', 0)"
      ]
     },
     "execution_count": 51,
     "metadata": {},
     "output_type": "execute_result"
    }
   ],
   "source": [
    "my_obj.name, my_obj.age"
   ]
  },
  {
   "cell_type": "code",
   "execution_count": 52,
   "metadata": {},
   "outputs": [],
   "source": [
    "my_obj.name = 'Bob'; my_obj.age = 47"
   ]
  },
  {
   "cell_type": "code",
   "execution_count": 53,
   "metadata": {},
   "outputs": [
    {
     "data": {
      "text/plain": [
       "('Bob', 47)"
      ]
     },
     "execution_count": 53,
     "metadata": {},
     "output_type": "execute_result"
    }
   ],
   "source": [
    "my_obj.name, my_obj.age"
   ]
  },
  {
   "cell_type": "code",
   "execution_count": 55,
   "metadata": {},
   "outputs": [
    {
     "name": "stdout",
     "output_type": "stream",
     "text": [
      "Hello my name is Bob and I am 47 years old\n"
     ]
    }
   ],
   "source": [
    "print('Hello my name is', my_obj.name, 'and I am', my_obj.age, 'years old')"
   ]
  },
  {
   "cell_type": "markdown",
   "metadata": {},
   "source": [
    "Now let's use traitlets to look for changes:"
   ]
  },
  {
   "cell_type": "code",
   "execution_count": 67,
   "metadata": {},
   "outputs": [],
   "source": [
    "import traitlets\n",
    "\n",
    "class MyTraitletObject(traitlets.HasTraits):\n",
    "    name = traitlets.Unicode('unnamed')\n",
    "    age = traitlets.Int(0)"
   ]
  },
  {
   "cell_type": "code",
   "execution_count": 68,
   "metadata": {},
   "outputs": [],
   "source": [
    "my_t_obj = MyTraitletObject()\n",
    "my_t_obj.age = 47\n",
    "my_t_obj.name = 'Bob'"
   ]
  },
  {
   "cell_type": "code",
   "execution_count": 69,
   "metadata": {},
   "outputs": [
    {
     "name": "stdout",
     "output_type": "stream",
     "text": [
      "Hello my name is Bob and I am 47 years old\n"
     ]
    }
   ],
   "source": [
    "print('Hello my name is', my_t_obj.name, 'and I am', my_t_obj.age, 'years old')"
   ]
  },
  {
   "cell_type": "code",
   "execution_count": 70,
   "metadata": {},
   "outputs": [],
   "source": [
    "def name_change(change):\n",
    "    #print(change)\n",
    "    print('Hello my name is', change['new'], 'and I am', change['owner'].age, 'years old')\n",
    "    \n",
    "my_t_obj.observe(name_change, ['name'])"
   ]
  },
  {
   "cell_type": "code",
   "execution_count": 72,
   "metadata": {},
   "outputs": [
    {
     "name": "stdout",
     "output_type": "stream",
     "text": [
      "Hello my name is Linda and I am 47 years old\n"
     ]
    }
   ],
   "source": [
    "my_t_obj.name = 'Linda'"
   ]
  },
  {
   "cell_type": "code",
   "execution_count": 73,
   "metadata": {},
   "outputs": [
    {
     "name": "stdout",
     "output_type": "stream",
     "text": [
      "Hello my name is Tina and I am 47 years old\n"
     ]
    }
   ],
   "source": [
    "my_t_obj.name = 'Tina'"
   ]
  },
  {
   "cell_type": "code",
   "execution_count": 74,
   "metadata": {},
   "outputs": [],
   "source": [
    "def age_changed(change):\n",
    "    print('Hello my name is', change['owner'].name, 'and I am', change['new'], 'year old')"
   ]
  },
  {
   "cell_type": "code",
   "execution_count": 75,
   "metadata": {},
   "outputs": [],
   "source": [
    "my_t_obj.observe(age_changed, ['age'])"
   ]
  },
  {
   "cell_type": "code",
   "execution_count": 76,
   "metadata": {},
   "outputs": [
    {
     "name": "stdout",
     "output_type": "stream",
     "text": [
      "Hello my name is Tina and I am 14 yeard old\n"
     ]
    }
   ],
   "source": [
    "my_t_obj.age = 14"
   ]
  },
  {
   "cell_type": "code",
   "execution_count": 77,
   "metadata": {},
   "outputs": [],
   "source": [
    "mich_filename = '/Users/jillnaiman/Downloads/michigan_lld.flt'\n",
    "michigan = np.fromfile(mich_filename, dtype='f4').reshape((5365,4201))"
   ]
  },
  {
   "cell_type": "code",
   "execution_count": 78,
   "metadata": {},
   "outputs": [
    {
     "data": {
      "text/plain": [
       "-9999.0"
      ]
     },
     "execution_count": 78,
     "metadata": {},
     "output_type": "execute_result"
    }
   ],
   "source": [
    "michigan.min()"
   ]
  },
  {
   "cell_type": "code",
   "execution_count": 79,
   "metadata": {},
   "outputs": [],
   "source": [
    "michigan[michigan==-9999] = np.nan"
   ]
  },
  {
   "cell_type": "code",
   "execution_count": 80,
   "metadata": {},
   "outputs": [
    {
     "data": {
      "image/png": "[encoded data removed]",
      "text/plain": [
       "<Figure size 432x288 with 1 Axes>"
      ]
     },
     "metadata": {
      "needs_background": "light"
     },
     "output_type": "display_data"
    }
   ],
   "source": [
    "plt.hist(michigan[~np.isnan(michigan)])\n",
    "plt.show()"
   ]
  },
  {
   "cell_type": "code",
   "execution_count": 81,
   "metadata": {},
   "outputs": [
    {
     "data": {
      "image/png": "[encoded data removed]",
      "text/plain": [
       "<Figure size 432x288 with 1 Axes>"
      ]
     },
     "metadata": {
      "needs_background": "light"
     },
     "output_type": "display_data"
    }
   ],
   "source": [
    "plt.imshow(michigan)\n",
    "plt.show()"
   ]
  },
  {
   "cell_type": "code",
   "execution_count": 82,
   "metadata": {},
   "outputs": [
    {
     "data": {
      "image/png": "[encoded data removed]",
      "text/plain": [
       "<Figure size 432x288 with 2 Axes>"
      ]
     },
     "metadata": {
      "needs_background": "light"
     },
     "output_type": "display_data"
    }
   ],
   "source": [
    "import matplotlib.colors as mpl_colors\n",
    "\n",
    "plt.imshow(michigan, cmap='terrain', norm=mpl_colors.SymLogNorm(10)) # symmetric log color map\n",
    "plt.clim(-352, 352) # symmteric colormap in + and -\n",
    "plt.colorbar()\n",
    "plt.show()"
   ]
  },
  {
   "cell_type": "code",
   "execution_count": 83,
   "metadata": {},
   "outputs": [],
   "source": [
    "mpl_colors.SymLogNorm?"
   ]
  },
  {
   "cell_type": "code",
   "execution_count": 134,
   "metadata": {},
   "outputs": [
    {
     "data": {
      "application/vnd.jupyter.widget-view+json": {
       "model_id": "6835f72983de4af5afcd644d98c69672",
       "version_major": 2,
       "version_minor": 0
      },
      "text/plain": [
       "interactive(children=(Dropdown(description='colormap', index=154, options=('Accent', 'Accent_r', 'Blues', 'Blu…"
      ]
     },
     "metadata": {},
     "output_type": "display_data"
    }
   ],
   "source": [
    "@ipywidgets.interact(colormap = plt.colormaps(), sym_log = True, figy=[5,10])\n",
    "def plot(colormap='terrain', sym_log=True, figy=5):\n",
    "    if sym_log: # if we have our toggle set to True\n",
    "        norm = mpl_colors.SymLogNorm(10)\n",
    "    else: # if toggle is off, don't use the log norm function to normalize colormap\n",
    "        norm = mpl_colors.Normalize() # default matplotlib normalization\n",
    "        \n",
    "    fig, ax = plt.subplots(figsize=(4,figy))\n",
    "    CAX = ax.imshow(michigan, cmap=colormap, norm=norm) # saving the image in a way for colorbar\n",
    "    plt.colorbar(CAX) # using our image to make the colorbar\n",
    "    plt.show()"
   ]
  },
  {
   "cell_type": "markdown",
   "metadata": {},
   "source": [
    "# For the HW: UFO dataset"
   ]
  },
  {
   "cell_type": "code",
   "execution_count": 86,
   "metadata": {},
   "outputs": [],
   "source": [
    "import pandas as pd"
   ]
  },
  {
   "cell_type": "code",
   "execution_count": 89,
   "metadata": {},
   "outputs": [],
   "source": [
    "ufos = pd.read_csv(\"/Users/jillnaiman/Downloads/ufo-scrubbed-geocoded-time-standardized-00.csv\",\n",
    "                  names=['date', 'city', 'state', 'country', \n",
    "                       'shape', 'duration_seconds', 'duration', \n",
    "                       'comment', 'report_date', 'latitude', 'longitude'],\n",
    "                  parse_dates=['date', 'report_date'])\n",
    "\n"
   ]
  },
  {
   "cell_type": "code",
   "execution_count": 90,
   "metadata": {},
   "outputs": [
    {
     "data": {
      "text/html": [
       "<div>\n",
       "<style scoped>\n",
       "    .dataframe tbody tr th:only-of-type {\n",
       "        vertical-align: middle;\n",
       "    }\n",
       "\n",
       "    .dataframe tbody tr th {\n",
       "        vertical-align: top;\n",
       "    }\n",
       "\n",
       "    .dataframe thead th {\n",
       "        text-align: right;\n",
       "    }\n",
       "</style>\n",
       "<table border=\"1\" class=\"dataframe\">\n",
       "  <thead>\n",
       "    <tr style=\"text-align: right;\">\n",
       "      <th></th>\n",
       "      <th>date</th>\n",
       "      <th>city</th>\n",
       "      <th>state</th>\n",
       "      <th>country</th>\n",
       "      <th>shape</th>\n",
       "      <th>duration_seconds</th>\n",
       "      <th>duration</th>\n",
       "      <th>comment</th>\n",
       "      <th>report_date</th>\n",
       "      <th>latitude</th>\n",
       "      <th>longitude</th>\n",
       "    </tr>\n",
       "  </thead>\n",
       "  <tbody>\n",
       "    <tr>\n",
       "      <th>0</th>\n",
       "      <td>1949-10-10 20:30:00</td>\n",
       "      <td>san marcos</td>\n",
       "      <td>tx</td>\n",
       "      <td>us</td>\n",
       "      <td>cylinder</td>\n",
       "      <td>2700.0</td>\n",
       "      <td>45 minutes</td>\n",
       "      <td>This event took place in early fall around 194...</td>\n",
       "      <td>2004-04-27</td>\n",
       "      <td>29.883056</td>\n",
       "      <td>-97.941111</td>\n",
       "    </tr>\n",
       "    <tr>\n",
       "      <th>1</th>\n",
       "      <td>1949-10-10 21:00:00</td>\n",
       "      <td>lackland afb</td>\n",
       "      <td>tx</td>\n",
       "      <td>NaN</td>\n",
       "      <td>light</td>\n",
       "      <td>7200.0</td>\n",
       "      <td>1-2 hrs</td>\n",
       "      <td>1949 Lackland AFB&amp;#44 TX.  Lights racing acros...</td>\n",
       "      <td>2005-12-16</td>\n",
       "      <td>29.384210</td>\n",
       "      <td>-98.581082</td>\n",
       "    </tr>\n",
       "    <tr>\n",
       "      <th>2</th>\n",
       "      <td>1955-10-10 17:00:00</td>\n",
       "      <td>chester (uk/england)</td>\n",
       "      <td>NaN</td>\n",
       "      <td>gb</td>\n",
       "      <td>circle</td>\n",
       "      <td>20.0</td>\n",
       "      <td>20 seconds</td>\n",
       "      <td>Green/Orange circular disc over Chester&amp;#44 En...</td>\n",
       "      <td>2008-01-21</td>\n",
       "      <td>53.200000</td>\n",
       "      <td>-2.916667</td>\n",
       "    </tr>\n",
       "    <tr>\n",
       "      <th>3</th>\n",
       "      <td>1956-10-10 21:00:00</td>\n",
       "      <td>edna</td>\n",
       "      <td>tx</td>\n",
       "      <td>us</td>\n",
       "      <td>circle</td>\n",
       "      <td>20.0</td>\n",
       "      <td>1/2 hour</td>\n",
       "      <td>My older brother and twin sister were leaving ...</td>\n",
       "      <td>2004-01-17</td>\n",
       "      <td>28.978333</td>\n",
       "      <td>-96.645833</td>\n",
       "    </tr>\n",
       "    <tr>\n",
       "      <th>4</th>\n",
       "      <td>1960-10-10 20:00:00</td>\n",
       "      <td>kaneohe</td>\n",
       "      <td>hi</td>\n",
       "      <td>us</td>\n",
       "      <td>light</td>\n",
       "      <td>900.0</td>\n",
       "      <td>15 minutes</td>\n",
       "      <td>AS a Marine 1st Lt. flying an FJ4B fighter/att...</td>\n",
       "      <td>2004-01-22</td>\n",
       "      <td>21.418056</td>\n",
       "      <td>-157.803611</td>\n",
       "    </tr>\n",
       "    <tr>\n",
       "      <th>...</th>\n",
       "      <td>...</td>\n",
       "      <td>...</td>\n",
       "      <td>...</td>\n",
       "      <td>...</td>\n",
       "      <td>...</td>\n",
       "      <td>...</td>\n",
       "      <td>...</td>\n",
       "      <td>...</td>\n",
       "      <td>...</td>\n",
       "      <td>...</td>\n",
       "      <td>...</td>\n",
       "    </tr>\n",
       "    <tr>\n",
       "      <th>80327</th>\n",
       "      <td>2013-09-09 21:15:00</td>\n",
       "      <td>nashville</td>\n",
       "      <td>tn</td>\n",
       "      <td>us</td>\n",
       "      <td>light</td>\n",
       "      <td>600.0</td>\n",
       "      <td>10 minutes</td>\n",
       "      <td>Round from the distance/slowly changing colors...</td>\n",
       "      <td>2013-09-30</td>\n",
       "      <td>36.165833</td>\n",
       "      <td>-86.784444</td>\n",
       "    </tr>\n",
       "    <tr>\n",
       "      <th>80328</th>\n",
       "      <td>2013-09-09 22:00:00</td>\n",
       "      <td>boise</td>\n",
       "      <td>id</td>\n",
       "      <td>us</td>\n",
       "      <td>circle</td>\n",
       "      <td>1200.0</td>\n",
       "      <td>20 minutes</td>\n",
       "      <td>Boise&amp;#44 ID&amp;#44 spherical&amp;#44 20 min&amp;#44 10 r...</td>\n",
       "      <td>2013-09-30</td>\n",
       "      <td>43.613611</td>\n",
       "      <td>-116.202500</td>\n",
       "    </tr>\n",
       "    <tr>\n",
       "      <th>80329</th>\n",
       "      <td>2013-09-09 22:00:00</td>\n",
       "      <td>napa</td>\n",
       "      <td>ca</td>\n",
       "      <td>us</td>\n",
       "      <td>other</td>\n",
       "      <td>1200.0</td>\n",
       "      <td>hour</td>\n",
       "      <td>Napa UFO&amp;#44</td>\n",
       "      <td>2013-09-30</td>\n",
       "      <td>38.297222</td>\n",
       "      <td>-122.284444</td>\n",
       "    </tr>\n",
       "    <tr>\n",
       "      <th>80330</th>\n",
       "      <td>2013-09-09 22:20:00</td>\n",
       "      <td>vienna</td>\n",
       "      <td>va</td>\n",
       "      <td>us</td>\n",
       "      <td>circle</td>\n",
       "      <td>5.0</td>\n",
       "      <td>5 seconds</td>\n",
       "      <td>Saw a five gold lit cicular craft moving fastl...</td>\n",
       "      <td>2013-09-30</td>\n",
       "      <td>38.901111</td>\n",
       "      <td>-77.265556</td>\n",
       "    </tr>\n",
       "    <tr>\n",
       "      <th>80331</th>\n",
       "      <td>2013-09-09 23:00:00</td>\n",
       "      <td>edmond</td>\n",
       "      <td>ok</td>\n",
       "      <td>us</td>\n",
       "      <td>cigar</td>\n",
       "      <td>1020.0</td>\n",
       "      <td>17 minutes</td>\n",
       "      <td>2 witnesses 2  miles apart&amp;#44 Red &amp;amp; White...</td>\n",
       "      <td>2013-09-30</td>\n",
       "      <td>35.652778</td>\n",
       "      <td>-97.477778</td>\n",
       "    </tr>\n",
       "  </tbody>\n",
       "</table>\n",
       "<p>80332 rows × 11 columns</p>\n",
       "</div>"
      ],
      "text/plain": [
       "                     date                  city state country     shape  \\\n",
       "0     1949-10-10 20:30:00            san marcos    tx      us  cylinder   \n",
       "1     1949-10-10 21:00:00          lackland afb    tx     NaN     light   \n",
       "2     1955-10-10 17:00:00  chester (uk/england)   NaN      gb    circle   \n",
       "3     1956-10-10 21:00:00                  edna    tx      us    circle   \n",
       "4     1960-10-10 20:00:00               kaneohe    hi      us     light   \n",
       "...                   ...                   ...   ...     ...       ...   \n",
       "80327 2013-09-09 21:15:00             nashville    tn      us     light   \n",
       "80328 2013-09-09 22:00:00                 boise    id      us    circle   \n",
       "80329 2013-09-09 22:00:00                  napa    ca      us     other   \n",
       "80330 2013-09-09 22:20:00                vienna    va      us    circle   \n",
       "80331 2013-09-09 23:00:00                edmond    ok      us     cigar   \n",
       "\n",
       "       duration_seconds    duration  \\\n",
       "0                2700.0  45 minutes   \n",
       "1                7200.0     1-2 hrs   \n",
       "2                  20.0  20 seconds   \n",
       "3                  20.0    1/2 hour   \n",
       "4                 900.0  15 minutes   \n",
       "...                 ...         ...   \n",
       "80327             600.0  10 minutes   \n",
       "80328            1200.0  20 minutes   \n",
       "80329            1200.0        hour   \n",
       "80330               5.0   5 seconds   \n",
       "80331            1020.0  17 minutes   \n",
       "\n",
       "                                                 comment report_date  \\\n",
       "0      This event took place in early fall around 194...  2004-04-27   \n",
       "1      1949 Lackland AFB&#44 TX.  Lights racing acros...  2005-12-16   \n",
       "2      Green/Orange circular disc over Chester&#44 En...  2008-01-21   \n",
       "3      My older brother and twin sister were leaving ...  2004-01-17   \n",
       "4      AS a Marine 1st Lt. flying an FJ4B fighter/att...  2004-01-22   \n",
       "...                                                  ...         ...   \n",
       "80327  Round from the distance/slowly changing colors...  2013-09-30   \n",
       "80328  Boise&#44 ID&#44 spherical&#44 20 min&#44 10 r...  2013-09-30   \n",
       "80329                                       Napa UFO&#44  2013-09-30   \n",
       "80330  Saw a five gold lit cicular craft moving fastl...  2013-09-30   \n",
       "80331  2 witnesses 2  miles apart&#44 Red &amp; White...  2013-09-30   \n",
       "\n",
       "        latitude   longitude  \n",
       "0      29.883056  -97.941111  \n",
       "1      29.384210  -98.581082  \n",
       "2      53.200000   -2.916667  \n",
       "3      28.978333  -96.645833  \n",
       "4      21.418056 -157.803611  \n",
       "...          ...         ...  \n",
       "80327  36.165833  -86.784444  \n",
       "80328  43.613611 -116.202500  \n",
       "80329  38.297222 -122.284444  \n",
       "80330  38.901111  -77.265556  \n",
       "80331  35.652778  -97.477778  \n",
       "\n",
       "[80332 rows x 11 columns]"
      ]
     },
     "execution_count": 90,
     "metadata": {},
     "output_type": "execute_result"
    }
   ],
   "source": [
    "ufos"
   ]
  },
  {
   "cell_type": "code",
   "execution_count": 91,
   "metadata": {},
   "outputs": [],
   "source": [
    "# process the data to turn it into strings from NaN's that are numbers\n",
    "ufos = ufos.fillna({'country':'unknown', 'state':'unknown', 'shape':'unknown'})"
   ]
  },
  {
   "cell_type": "code",
   "execution_count": 92,
   "metadata": {},
   "outputs": [
    {
     "data": {
      "text/html": [
       "<div>\n",
       "<style scoped>\n",
       "    .dataframe tbody tr th:only-of-type {\n",
       "        vertical-align: middle;\n",
       "    }\n",
       "\n",
       "    .dataframe tbody tr th {\n",
       "        vertical-align: top;\n",
       "    }\n",
       "\n",
       "    .dataframe thead th {\n",
       "        text-align: right;\n",
       "    }\n",
       "</style>\n",
       "<table border=\"1\" class=\"dataframe\">\n",
       "  <thead>\n",
       "    <tr style=\"text-align: right;\">\n",
       "      <th></th>\n",
       "      <th>date</th>\n",
       "      <th>city</th>\n",
       "      <th>state</th>\n",
       "      <th>country</th>\n",
       "      <th>shape</th>\n",
       "      <th>duration_seconds</th>\n",
       "      <th>duration</th>\n",
       "      <th>comment</th>\n",
       "      <th>report_date</th>\n",
       "      <th>latitude</th>\n",
       "      <th>longitude</th>\n",
       "    </tr>\n",
       "  </thead>\n",
       "  <tbody>\n",
       "    <tr>\n",
       "      <th>0</th>\n",
       "      <td>1949-10-10 20:30:00</td>\n",
       "      <td>san marcos</td>\n",
       "      <td>tx</td>\n",
       "      <td>us</td>\n",
       "      <td>cylinder</td>\n",
       "      <td>2700.0</td>\n",
       "      <td>45 minutes</td>\n",
       "      <td>This event took place in early fall around 194...</td>\n",
       "      <td>2004-04-27</td>\n",
       "      <td>29.883056</td>\n",
       "      <td>-97.941111</td>\n",
       "    </tr>\n",
       "    <tr>\n",
       "      <th>1</th>\n",
       "      <td>1949-10-10 21:00:00</td>\n",
       "      <td>lackland afb</td>\n",
       "      <td>tx</td>\n",
       "      <td>unknown</td>\n",
       "      <td>light</td>\n",
       "      <td>7200.0</td>\n",
       "      <td>1-2 hrs</td>\n",
       "      <td>1949 Lackland AFB&amp;#44 TX.  Lights racing acros...</td>\n",
       "      <td>2005-12-16</td>\n",
       "      <td>29.384210</td>\n",
       "      <td>-98.581082</td>\n",
       "    </tr>\n",
       "    <tr>\n",
       "      <th>2</th>\n",
       "      <td>1955-10-10 17:00:00</td>\n",
       "      <td>chester (uk/england)</td>\n",
       "      <td>unknown</td>\n",
       "      <td>gb</td>\n",
       "      <td>circle</td>\n",
       "      <td>20.0</td>\n",
       "      <td>20 seconds</td>\n",
       "      <td>Green/Orange circular disc over Chester&amp;#44 En...</td>\n",
       "      <td>2008-01-21</td>\n",
       "      <td>53.200000</td>\n",
       "      <td>-2.916667</td>\n",
       "    </tr>\n",
       "    <tr>\n",
       "      <th>3</th>\n",
       "      <td>1956-10-10 21:00:00</td>\n",
       "      <td>edna</td>\n",
       "      <td>tx</td>\n",
       "      <td>us</td>\n",
       "      <td>circle</td>\n",
       "      <td>20.0</td>\n",
       "      <td>1/2 hour</td>\n",
       "      <td>My older brother and twin sister were leaving ...</td>\n",
       "      <td>2004-01-17</td>\n",
       "      <td>28.978333</td>\n",
       "      <td>-96.645833</td>\n",
       "    </tr>\n",
       "    <tr>\n",
       "      <th>4</th>\n",
       "      <td>1960-10-10 20:00:00</td>\n",
       "      <td>kaneohe</td>\n",
       "      <td>hi</td>\n",
       "      <td>us</td>\n",
       "      <td>light</td>\n",
       "      <td>900.0</td>\n",
       "      <td>15 minutes</td>\n",
       "      <td>AS a Marine 1st Lt. flying an FJ4B fighter/att...</td>\n",
       "      <td>2004-01-22</td>\n",
       "      <td>21.418056</td>\n",
       "      <td>-157.803611</td>\n",
       "    </tr>\n",
       "    <tr>\n",
       "      <th>...</th>\n",
       "      <td>...</td>\n",
       "      <td>...</td>\n",
       "      <td>...</td>\n",
       "      <td>...</td>\n",
       "      <td>...</td>\n",
       "      <td>...</td>\n",
       "      <td>...</td>\n",
       "      <td>...</td>\n",
       "      <td>...</td>\n",
       "      <td>...</td>\n",
       "      <td>...</td>\n",
       "    </tr>\n",
       "    <tr>\n",
       "      <th>80327</th>\n",
       "      <td>2013-09-09 21:15:00</td>\n",
       "      <td>nashville</td>\n",
       "      <td>tn</td>\n",
       "      <td>us</td>\n",
       "      <td>light</td>\n",
       "      <td>600.0</td>\n",
       "      <td>10 minutes</td>\n",
       "      <td>Round from the distance/slowly changing colors...</td>\n",
       "      <td>2013-09-30</td>\n",
       "      <td>36.165833</td>\n",
       "      <td>-86.784444</td>\n",
       "    </tr>\n",
       "    <tr>\n",
       "      <th>80328</th>\n",
       "      <td>2013-09-09 22:00:00</td>\n",
       "      <td>boise</td>\n",
       "      <td>id</td>\n",
       "      <td>us</td>\n",
       "      <td>circle</td>\n",
       "      <td>1200.0</td>\n",
       "      <td>20 minutes</td>\n",
       "      <td>Boise&amp;#44 ID&amp;#44 spherical&amp;#44 20 min&amp;#44 10 r...</td>\n",
       "      <td>2013-09-30</td>\n",
       "      <td>43.613611</td>\n",
       "      <td>-116.202500</td>\n",
       "    </tr>\n",
       "    <tr>\n",
       "      <th>80329</th>\n",
       "      <td>2013-09-09 22:00:00</td>\n",
       "      <td>napa</td>\n",
       "      <td>ca</td>\n",
       "      <td>us</td>\n",
       "      <td>other</td>\n",
       "      <td>1200.0</td>\n",
       "      <td>hour</td>\n",
       "      <td>Napa UFO&amp;#44</td>\n",
       "      <td>2013-09-30</td>\n",
       "      <td>38.297222</td>\n",
       "      <td>-122.284444</td>\n",
       "    </tr>\n",
       "    <tr>\n",
       "      <th>80330</th>\n",
       "      <td>2013-09-09 22:20:00</td>\n",
       "      <td>vienna</td>\n",
       "      <td>va</td>\n",
       "      <td>us</td>\n",
       "      <td>circle</td>\n",
       "      <td>5.0</td>\n",
       "      <td>5 seconds</td>\n",
       "      <td>Saw a five gold lit cicular craft moving fastl...</td>\n",
       "      <td>2013-09-30</td>\n",
       "      <td>38.901111</td>\n",
       "      <td>-77.265556</td>\n",
       "    </tr>\n",
       "    <tr>\n",
       "      <th>80331</th>\n",
       "      <td>2013-09-09 23:00:00</td>\n",
       "      <td>edmond</td>\n",
       "      <td>ok</td>\n",
       "      <td>us</td>\n",
       "      <td>cigar</td>\n",
       "      <td>1020.0</td>\n",
       "      <td>17 minutes</td>\n",
       "      <td>2 witnesses 2  miles apart&amp;#44 Red &amp;amp; White...</td>\n",
       "      <td>2013-09-30</td>\n",
       "      <td>35.652778</td>\n",
       "      <td>-97.477778</td>\n",
       "    </tr>\n",
       "  </tbody>\n",
       "</table>\n",
       "<p>80332 rows × 11 columns</p>\n",
       "</div>"
      ],
      "text/plain": [
       "                     date                  city    state  country     shape  \\\n",
       "0     1949-10-10 20:30:00            san marcos       tx       us  cylinder   \n",
       "1     1949-10-10 21:00:00          lackland afb       tx  unknown     light   \n",
       "2     1955-10-10 17:00:00  chester (uk/england)  unknown       gb    circle   \n",
       "3     1956-10-10 21:00:00                  edna       tx       us    circle   \n",
       "4     1960-10-10 20:00:00               kaneohe       hi       us     light   \n",
       "...                   ...                   ...      ...      ...       ...   \n",
       "80327 2013-09-09 21:15:00             nashville       tn       us     light   \n",
       "80328 2013-09-09 22:00:00                 boise       id       us    circle   \n",
       "80329 2013-09-09 22:00:00                  napa       ca       us     other   \n",
       "80330 2013-09-09 22:20:00                vienna       va       us    circle   \n",
       "80331 2013-09-09 23:00:00                edmond       ok       us     cigar   \n",
       "\n",
       "       duration_seconds    duration  \\\n",
       "0                2700.0  45 minutes   \n",
       "1                7200.0     1-2 hrs   \n",
       "2                  20.0  20 seconds   \n",
       "3                  20.0    1/2 hour   \n",
       "4                 900.0  15 minutes   \n",
       "...                 ...         ...   \n",
       "80327             600.0  10 minutes   \n",
       "80328            1200.0  20 minutes   \n",
       "80329            1200.0        hour   \n",
       "80330               5.0   5 seconds   \n",
       "80331            1020.0  17 minutes   \n",
       "\n",
       "                                                 comment report_date  \\\n",
       "0      This event took place in early fall around 194...  2004-04-27   \n",
       "1      1949 Lackland AFB&#44 TX.  Lights racing acros...  2005-12-16   \n",
       "2      Green/Orange circular disc over Chester&#44 En...  2008-01-21   \n",
       "3      My older brother and twin sister were leaving ...  2004-01-17   \n",
       "4      AS a Marine 1st Lt. flying an FJ4B fighter/att...  2004-01-22   \n",
       "...                                                  ...         ...   \n",
       "80327  Round from the distance/slowly changing colors...  2013-09-30   \n",
       "80328  Boise&#44 ID&#44 spherical&#44 20 min&#44 10 r...  2013-09-30   \n",
       "80329                                       Napa UFO&#44  2013-09-30   \n",
       "80330  Saw a five gold lit cicular craft moving fastl...  2013-09-30   \n",
       "80331  2 witnesses 2  miles apart&#44 Red &amp; White...  2013-09-30   \n",
       "\n",
       "        latitude   longitude  \n",
       "0      29.883056  -97.941111  \n",
       "1      29.384210  -98.581082  \n",
       "2      53.200000   -2.916667  \n",
       "3      28.978333  -96.645833  \n",
       "4      21.418056 -157.803611  \n",
       "...          ...         ...  \n",
       "80327  36.165833  -86.784444  \n",
       "80328  43.613611 -116.202500  \n",
       "80329  38.297222 -122.284444  \n",
       "80330  38.901111  -77.265556  \n",
       "80331  35.652778  -97.477778  \n",
       "\n",
       "[80332 rows x 11 columns]"
      ]
     },
     "execution_count": 92,
     "metadata": {},
     "output_type": "execute_result"
    }
   ],
   "source": [
    "ufos"
   ]
  },
  {
   "cell_type": "markdown",
   "metadata": {},
   "source": [
    "Your data is big! Let's try subsetting!"
   ]
  },
  {
   "cell_type": "code",
   "execution_count": 99,
   "metadata": {},
   "outputs": [],
   "source": [
    "np.random.seed(seed=42)"
   ]
  },
  {
   "cell_type": "code",
   "execution_count": 114,
   "metadata": {},
   "outputs": [
    {
     "data": {
      "text/plain": [
       "array([51411, 25771, 64176,  2623, 59591, 14858,  5579, 77777, 13534,\n",
       "        8344, 27261,  6293, 41677, 38171, 25199, 22675, 16869, 62577,\n",
       "       56122, 18425, 65770, 33008, 53398, 36084, 62675, 31486, 40384,\n",
       "       44459, 76116,  2114, 36699, 77980, 67899, 77969, 31563,  1457,\n",
       "       76826, 42899, 71740,  9735, 65271, 56013, 75988, 24294, 76611,\n",
       "       54949, 11482, 51424,  3085, 78133, 69990, 16405, 78805, 20101,\n",
       "       16050, 51627, 24167, 46038, 31820, 44224, 44015, 40366, 37168,\n",
       "       65482, 67862, 51271, 60130, 13888, 32942, 17599, 17095, 49184,\n",
       "       78508,  5567, 68305, 60193, 68408, 77484, 10351, 78266, 44201,\n",
       "       23737, 38443, 14564, 73706, 38641, 48962, 24808, 58553, 39135,\n",
       "         323, 33868, 12662, 24620, 69389, 67958, 54397, 19858,  7225,\n",
       "       15766, 20658, 16002, 76268, 16084, 16137, 37183, 43450, 29335,\n",
       "       64488, 17535, 23400, 76171, 55027, 21681, 53781, 45304, 47462,\n",
       "       20536, 61111, 34009, 11668, 60425, 38055, 41374, 77803, 77516,\n",
       "        6095, 39076, 54906, 69255,  8768, 11617, 65980, 61552, 28662,\n",
       "       60047, 40411, 74320, 12580, 36815, 30749,  6837, 53354, 79585,\n",
       "       75583, 68625, 77037, 77676, 48992, 47652, 46877, 50068, 25959,\n",
       "       73347, 43733,   379, 38429, 32096, 23518, 40646, 68658, 14554,\n",
       "        8525, 36670, 38732, 47430, 64195, 44684,  4026, 65925, 28339,\n",
       "        6175, 38198, 76035, 43564, 30376,   957, 14117,  9258, 47385,\n",
       "       65178,  7858, 18875, 48507, 18024, 41923, 71645, 24113, 27600,\n",
       "       64478, 73692,  4664, 64007, 44728, 64393, 58593, 34504, 60413,\n",
       "       63558, 12950, 26005, 13179,  2271, 23112,  2376, 77352, 49313,\n",
       "       46152, 68293, 16342, 63681,   662, 43522,  8579, 65891, 55912,\n",
       "       42843, 13645, 54776, 28347, 69140, 77054, 59221, 67726, 48026,\n",
       "       44410,  5013,  9573, 66028, 79673, 53957, 68741, 35872, 50923,\n",
       "       63322, 55807, 74433, 78532, 45403, 41507, 10055, 61300, 30195,\n",
       "       13206, 25285, 69343, 47960, 47895, 17050, 11375, 76581,  4670,\n",
       "       24424, 44079, 47170, 22543, 75652, 19921,  8817, 53679, 29567,\n",
       "        4413, 34820, 23428, 72838, 27436, 10700, 24008,   106, 13080,\n",
       "       66561, 76933, 47480, 55817, 73864, 75195, 75041, 41363, 68588,\n",
       "       70892, 52653, 72395, 76479, 43742, 16357, 76831, 68278,  5449,\n",
       "       60619, 61811, 42761,  9051,  2502, 54135, 77986, 41737, 80010,\n",
       "       21904, 59239, 50418, 21354, 54402, 12373, 45120, 21044, 35311,\n",
       "       19997, 73433, 33605, 64335,   156, 40829, 36177,   833, 41309,\n",
       "       78995, 45529, 44672,  7110, 16170, 37617, 75559, 10852, 17730,\n",
       "       66709, 49083, 44947, 23616, 72086,  1842, 36442, 13073, 20237,\n",
       "       58336, 64053, 22827, 73955, 52583, 50972, 73095, 42228,  4635,\n",
       "       59599, 47815, 37379, 31569,  6991, 46518, 52250, 24393, 25803,\n",
       "       29029, 26027, 13458, 64237, 15812, 48501, 22693,  6717, 45701,\n",
       "       64934, 37091, 58610, 55011, 34453, 51797, 35752, 60456,  9887,\n",
       "       11713, 66238, 40093, 16933, 57827, 64043, 78481, 49215, 70059,\n",
       "         313, 21641, 14042, 72607, 68038, 73279, 62940, 45662, 75143,\n",
       "       59839, 19370, 22682, 80238, 75364, 45067, 78866, 44968, 60548,\n",
       "        8932, 58538, 23846,  7029, 59633, 64823, 46291,    39, 31982,\n",
       "       36604, 64537, 41665, 28027,  1285, 57471, 57689, 50813, 64456,\n",
       "       73149, 78148, 28376, 80071, 38797, 55049, 63835, 20238, 73091,\n",
       "       54424, 39810, 76123, 55936,  5086, 22266, 28607, 33421, 22640,\n",
       "       19376, 59686, 55752, 43867, 37657, 53306, 54036, 52109, 54069,\n",
       "       49804, 59581, 34333, 40184, 38326, 53429, 75546, 36319, 68761,\n",
       "       28510, 34330, 21920, 29691, 22508, 61664, 41072, 69864, 48675,\n",
       "       59212,  9798, 34257,  9354, 33616, 61549,  8864, 26079, 10579,\n",
       "       51687, 66583, 15397,   278,  2913, 38679,  1447, 57383, 68233,\n",
       "       42062, 54877, 37990, 22376, 13980, 61746, 39226, 63826, 59318,\n",
       "       55543, 24606, 79225,  3594, 31156, 25495, 42552, 10221, 18520,\n",
       "       57441, 51873, 50422, 14516, 73012, 56183, 76800, 25876, 20260,\n",
       "       62749, 47887, 27433, 43499, 67571, 50003, 59582, 72665, 53927,\n",
       "       61595, 43911, 31204,  8786, 40722, 41351, 75149, 70688, 29053,\n",
       "       22926, 75663, 41492, 32943, 64570, 21929, 37255, 12847, 43514,\n",
       "       48363, 37583, 59437, 16141, 77090, 40202, 74912, 73209, 52617,\n",
       "       65217, 32461, 44455, 16808, 26919, 22599, 63084, 18775, 52909,\n",
       "       19656, 16408, 34646, 45554, 79094, 37155, 44316, 76685, 41501,\n",
       "       39848, 75953, 71501, 72259, 59462, 26698, 39059, 32126, 49916,\n",
       "        2339, 64358, 75740, 13897, 70958, 47293, 54692, 66601, 29423,\n",
       "       60833, 62174, 28033, 69574, 12267, 32557, 26841, 39802, 71745,\n",
       "       78433, 16369, 63464, 74255, 15897, 41966, 30839, 50753, 59280,\n",
       "         979, 30801, 39953, 70292, 51488, 56961, 36448, 33509, 23380,\n",
       "       14441, 35630, 30789, 71287, 53505, 58427, 19064, 50170, 29199,\n",
       "        1638, 36908, 16910, 51429, 25142, 46439, 51346, 50471, 43279,\n",
       "       11417, 40759,  5706, 78087, 71072, 19185, 18139, 49133, 70052,\n",
       "       59573, 70068,  3036, 61355, 40045, 72164, 67140, 65104, 69850,\n",
       "       61398, 75275, 10077, 45627, 16299, 64272,  1291, 70788, 33695,\n",
       "       23278, 32247, 62610, 23498, 75134, 16078,  6804, 60959,  6851,\n",
       "        7823, 13017, 74662, 33483, 12576, 54661, 78208, 72881, 64038,\n",
       "       42702, 55315, 59411,  6253, 15465, 45118,  6691, 25263, 32710,\n",
       "       14154, 42955, 59885, 77329, 71709, 66049,   347, 71647, 77444,\n",
       "       74522,  9254, 66429,  6391, 11987, 30787, 71654, 45223, 29242,\n",
       "       48995, 13600, 33358, 48618, 52318, 54968, 63383, 70930, 74539,\n",
       "       53207, 18448, 59590, 63233, 23120, 29718, 79291, 47082, 39012,\n",
       "       29226, 14784, 63009,  6990,  5324, 25200, 45817, 24457, 46568,\n",
       "       40999, 11192, 78635, 54388, 20913, 41278, 58766, 27162, 63895,\n",
       "       16413, 46161, 64918, 41948, 26053, 73627, 45781,  3714, 13373,\n",
       "       56631,  6658, 62297, 31467, 72739,  1389, 75811, 49344, 28472,\n",
       "       46416, 45972, 74903, 63902, 69193, 46440, 40606, 34705, 71859,\n",
       "       27599, 77604,  3656, 59929, 73344, 11421, 57094, 65275, 37966,\n",
       "       44634, 46191, 68745, 37933, 51664, 70636, 78001, 12136,  4468,\n",
       "       70365, 64856,  3001, 43345,  8926, 59704, 74479, 48931, 17998,\n",
       "       76729, 34147, 20873, 20546, 74427, 74811, 23827, 24528, 50472,\n",
       "       39370,  4422, 72211, 13212, 44849, 40865,  8405,  1155, 75828,\n",
       "       29800, 66051, 40924,  2086, 59393,  5633,  9683, 23764, 61487,\n",
       "       77812,  4366, 65027,  9100, 21907, 72695, 53211, 44108, 17715,\n",
       "       63458, 31666,  6370, 59134, 39690, 35628, 46516, 66831, 79669,\n",
       "       48389, 12724,   543, 69773, 50661, 59747, 24345, 33854,  5716,\n",
       "       53914, 54270, 79960, 78195, 29302,  5395, 34430, 37809, 39604,\n",
       "       40991, 79007, 23001, 64706,  7641, 65501, 27670, 72466, 19707,\n",
       "       27622, 27893, 58898, 67252, 58116,  8063, 16307, 54351,  8092,\n",
       "       23299, 41105, 62505, 30969, 20668,  4940, 51307, 19285, 13447,\n",
       "       50758, 21598, 72151, 30525, 49096, 71771, 80000,  7725, 48409,\n",
       "        8667, 43559, 40479, 60251, 75631, 33579, 20636, 55738, 66982,\n",
       "       60321, 36284,   454, 19837, 15325,  8626, 64466, 19863, 49742,\n",
       "       65754, 47173, 65853,  5398, 17486, 33395, 80236, 73738,   730,\n",
       "        5953, 66874, 25867, 21909, 62817, 50079, 24960, 11014, 61048,\n",
       "       27996, 70577, 31057, 16540, 35121, 37098, 62428, 38800, 12065,\n",
       "         419, 29973, 13551, 70781, 24577, 22853, 54088, 45831, 69989,\n",
       "       19155, 44204, 40545, 72829, 41141, 24693, 57348,  1811, 41953,\n",
       "       75722, 76192, 32798,  8875, 33614,  2231,  8270, 55470, 15425,\n",
       "       23941, 69944, 67388, 70525, 61846, 60702,  5928, 73096, 27596,\n",
       "        4871, 45681, 65359, 67919, 55247, 49025, 57489, 34807, 79278,\n",
       "       42442, 55632, 43768,  1529, 26487, 68838, 65237, 46459, 63635,\n",
       "       67162, 31441, 64179, 45782, 14369, 52146, 62127, 66254, 14187,\n",
       "       27252, 33263, 41759, 61310, 32565, 16581, 22189,  9900, 15124,\n",
       "       47651])"
      ]
     },
     "execution_count": 114,
     "metadata": {},
     "output_type": "execute_result"
    }
   ],
   "source": [
    "np.random.seed(seed=42)\n",
    "nsamples = 1000\n",
    "downSampleMask = np.random.choice(range(len(ufos)-1), nsamples, replace=False)\n",
    "downSampleMask"
   ]
  },
  {
   "cell_type": "code",
   "execution_count": 112,
   "metadata": {},
   "outputs": [],
   "source": [
    "ufosDS = ufos.loc[downSampleMask]"
   ]
  },
  {
   "cell_type": "code",
   "execution_count": 104,
   "metadata": {},
   "outputs": [
    {
     "data": {
      "text/html": [
       "<div>\n",
       "<style scoped>\n",
       "    .dataframe tbody tr th:only-of-type {\n",
       "        vertical-align: middle;\n",
       "    }\n",
       "\n",
       "    .dataframe tbody tr th {\n",
       "        vertical-align: top;\n",
       "    }\n",
       "\n",
       "    .dataframe thead th {\n",
       "        text-align: right;\n",
       "    }\n",
       "</style>\n",
       "<table border=\"1\" class=\"dataframe\">\n",
       "  <thead>\n",
       "    <tr style=\"text-align: right;\">\n",
       "      <th></th>\n",
       "      <th>date</th>\n",
       "      <th>city</th>\n",
       "      <th>state</th>\n",
       "      <th>country</th>\n",
       "      <th>shape</th>\n",
       "      <th>duration_seconds</th>\n",
       "      <th>duration</th>\n",
       "      <th>comment</th>\n",
       "      <th>report_date</th>\n",
       "      <th>latitude</th>\n",
       "      <th>longitude</th>\n",
       "    </tr>\n",
       "  </thead>\n",
       "  <tbody>\n",
       "    <tr>\n",
       "      <th>25249</th>\n",
       "      <td>2007-01-08 17:30:00</td>\n",
       "      <td>las vegas</td>\n",
       "      <td>nv</td>\n",
       "      <td>us</td>\n",
       "      <td>light</td>\n",
       "      <td>3600.0</td>\n",
       "      <td>1 hour +</td>\n",
       "      <td>Red light stayed in sky for over 1 hour</td>\n",
       "      <td>2007-04-27</td>\n",
       "      <td>36.175000</td>\n",
       "      <td>-115.136389</td>\n",
       "    </tr>\n",
       "    <tr>\n",
       "      <th>19040</th>\n",
       "      <td>2013-12-19 20:00:00</td>\n",
       "      <td>salt lake city</td>\n",
       "      <td>ut</td>\n",
       "      <td>us</td>\n",
       "      <td>flash</td>\n",
       "      <td>1.0</td>\n",
       "      <td>1 second</td>\n",
       "      <td>Bright green flashes.  ((NUFORC Note:  Possibl...</td>\n",
       "      <td>2013-12-23</td>\n",
       "      <td>40.760833</td>\n",
       "      <td>-111.890278</td>\n",
       "    </tr>\n",
       "    <tr>\n",
       "      <th>68639</th>\n",
       "      <td>2008-08-02 22:45:00</td>\n",
       "      <td>ocean city</td>\n",
       "      <td>nj</td>\n",
       "      <td>us</td>\n",
       "      <td>circle</td>\n",
       "      <td>3.0</td>\n",
       "      <td>3 seconds</td>\n",
       "      <td>Round object flying from south extremely quick...</td>\n",
       "      <td>2008-08-12</td>\n",
       "      <td>39.277500</td>\n",
       "      <td>-74.575000</td>\n",
       "    </tr>\n",
       "    <tr>\n",
       "      <th>40785</th>\n",
       "      <td>2014-04-07 20:00:00</td>\n",
       "      <td>daytona beach</td>\n",
       "      <td>fl</td>\n",
       "      <td>us</td>\n",
       "      <td>rectangle</td>\n",
       "      <td>30.0</td>\n",
       "      <td>.5 minutes</td>\n",
       "      <td>Rounded Rectangular wings&amp;#44 no visible body&amp;...</td>\n",
       "      <td>2014-04-11</td>\n",
       "      <td>29.210556</td>\n",
       "      <td>-81.023056</td>\n",
       "    </tr>\n",
       "    <tr>\n",
       "      <th>51902</th>\n",
       "      <td>2004-06-26 03:00:00</td>\n",
       "      <td>bolivar</td>\n",
       "      <td>mo</td>\n",
       "      <td>us</td>\n",
       "      <td>light</td>\n",
       "      <td>60.0</td>\n",
       "      <td>1 minute</td>\n",
       "      <td>MISSOURI INVESTIGATORS GROUP Report:  Starlike...</td>\n",
       "      <td>2004-07-08</td>\n",
       "      <td>37.614444</td>\n",
       "      <td>-93.410278</td>\n",
       "    </tr>\n",
       "    <tr>\n",
       "      <th>...</th>\n",
       "      <td>...</td>\n",
       "      <td>...</td>\n",
       "      <td>...</td>\n",
       "      <td>...</td>\n",
       "      <td>...</td>\n",
       "      <td>...</td>\n",
       "      <td>...</td>\n",
       "      <td>...</td>\n",
       "      <td>...</td>\n",
       "      <td>...</td>\n",
       "      <td>...</td>\n",
       "    </tr>\n",
       "    <tr>\n",
       "      <th>78358</th>\n",
       "      <td>2013-09-28 22:25:00</td>\n",
       "      <td>osprey</td>\n",
       "      <td>fl</td>\n",
       "      <td>us</td>\n",
       "      <td>chevron</td>\n",
       "      <td>30.0</td>\n",
       "      <td>30 seconds</td>\n",
       "      <td>Observed a cloud like semi transparent Vee sha...</td>\n",
       "      <td>2013-09-30</td>\n",
       "      <td>27.195833</td>\n",
       "      <td>-82.490556</td>\n",
       "    </tr>\n",
       "    <tr>\n",
       "      <th>7010</th>\n",
       "      <td>1999-10-08 21:00:00</td>\n",
       "      <td>munds park</td>\n",
       "      <td>az</td>\n",
       "      <td>us</td>\n",
       "      <td>cone</td>\n",
       "      <td>2400.0</td>\n",
       "      <td>40+ min</td>\n",
       "      <td>cone shaped mist with single white light at to...</td>\n",
       "      <td>2006-10-30</td>\n",
       "      <td>34.945556</td>\n",
       "      <td>-111.639444</td>\n",
       "    </tr>\n",
       "    <tr>\n",
       "      <th>12465</th>\n",
       "      <td>2013-11-22 19:00:00</td>\n",
       "      <td>west sumatra (indonesia)</td>\n",
       "      <td>unknown</td>\n",
       "      <td>unknown</td>\n",
       "      <td>oval</td>\n",
       "      <td>3600.0</td>\n",
       "      <td>1 hour</td>\n",
       "      <td>Oval shape craft with lights around attached t...</td>\n",
       "      <td>2013-12-02</td>\n",
       "      <td>-0.589724</td>\n",
       "      <td>101.343106</td>\n",
       "    </tr>\n",
       "    <tr>\n",
       "      <th>19046</th>\n",
       "      <td>1950-01-02 00:00:00</td>\n",
       "      <td>new york city</td>\n",
       "      <td>ny</td>\n",
       "      <td>us</td>\n",
       "      <td>oval</td>\n",
       "      <td>900.0</td>\n",
       "      <td>15min</td>\n",
       "      <td>good and true info. 500 Lights On Object0: Yes</td>\n",
       "      <td>2007-04-27</td>\n",
       "      <td>40.714167</td>\n",
       "      <td>-74.006389</td>\n",
       "    </tr>\n",
       "    <tr>\n",
       "      <th>68171</th>\n",
       "      <td>2011-08-20 20:44:00</td>\n",
       "      <td>niles</td>\n",
       "      <td>ny</td>\n",
       "      <td>us</td>\n",
       "      <td>fireball</td>\n",
       "      <td>30.0</td>\n",
       "      <td>30 seconds</td>\n",
       "      <td>3 Fireballs Spotted in Triangle Formation Spot...</td>\n",
       "      <td>2011-08-21</td>\n",
       "      <td>42.837500</td>\n",
       "      <td>-76.413889</td>\n",
       "    </tr>\n",
       "  </tbody>\n",
       "</table>\n",
       "<p>1000 rows × 11 columns</p>\n",
       "</div>"
      ],
      "text/plain": [
       "                     date                      city    state  country  \\\n",
       "25249 2007-01-08 17:30:00                 las vegas       nv       us   \n",
       "19040 2013-12-19 20:00:00            salt lake city       ut       us   \n",
       "68639 2008-08-02 22:45:00                ocean city       nj       us   \n",
       "40785 2014-04-07 20:00:00             daytona beach       fl       us   \n",
       "51902 2004-06-26 03:00:00                   bolivar       mo       us   \n",
       "...                   ...                       ...      ...      ...   \n",
       "78358 2013-09-28 22:25:00                    osprey       fl       us   \n",
       "7010  1999-10-08 21:00:00                munds park       az       us   \n",
       "12465 2013-11-22 19:00:00  west sumatra (indonesia)  unknown  unknown   \n",
       "19046 1950-01-02 00:00:00             new york city       ny       us   \n",
       "68171 2011-08-20 20:44:00                     niles       ny       us   \n",
       "\n",
       "           shape  duration_seconds    duration  \\\n",
       "25249      light            3600.0    1 hour +   \n",
       "19040      flash               1.0    1 second   \n",
       "68639     circle               3.0   3 seconds   \n",
       "40785  rectangle              30.0  .5 minutes   \n",
       "51902      light              60.0    1 minute   \n",
       "...          ...               ...         ...   \n",
       "78358    chevron              30.0  30 seconds   \n",
       "7010        cone            2400.0     40+ min   \n",
       "12465       oval            3600.0      1 hour   \n",
       "19046       oval             900.0       15min   \n",
       "68171   fireball              30.0  30 seconds   \n",
       "\n",
       "                                                 comment report_date  \\\n",
       "25249            Red light stayed in sky for over 1 hour  2007-04-27   \n",
       "19040  Bright green flashes.  ((NUFORC Note:  Possibl...  2013-12-23   \n",
       "68639  Round object flying from south extremely quick...  2008-08-12   \n",
       "40785  Rounded Rectangular wings&#44 no visible body&...  2014-04-11   \n",
       "51902  MISSOURI INVESTIGATORS GROUP Report:  Starlike...  2004-07-08   \n",
       "...                                                  ...         ...   \n",
       "78358  Observed a cloud like semi transparent Vee sha...  2013-09-30   \n",
       "7010   cone shaped mist with single white light at to...  2006-10-30   \n",
       "12465  Oval shape craft with lights around attached t...  2013-12-02   \n",
       "19046     good and true info. 500 Lights On Object0: Yes  2007-04-27   \n",
       "68171  3 Fireballs Spotted in Triangle Formation Spot...  2011-08-21   \n",
       "\n",
       "        latitude   longitude  \n",
       "25249  36.175000 -115.136389  \n",
       "19040  40.760833 -111.890278  \n",
       "68639  39.277500  -74.575000  \n",
       "40785  29.210556  -81.023056  \n",
       "51902  37.614444  -93.410278  \n",
       "...          ...         ...  \n",
       "78358  27.195833  -82.490556  \n",
       "7010   34.945556 -111.639444  \n",
       "12465  -0.589724  101.343106  \n",
       "19046  40.714167  -74.006389  \n",
       "68171  42.837500  -76.413889  \n",
       "\n",
       "[1000 rows x 11 columns]"
      ]
     },
     "execution_count": 104,
     "metadata": {},
     "output_type": "execute_result"
    }
   ],
   "source": [
    "ufosDS"
   ]
  },
  {
   "cell_type": "code",
   "execution_count": 108,
   "metadata": {},
   "outputs": [
    {
     "data": {
      "image/png": "[encoded data removed]",
      "text/plain": [
       "<Figure size 432x288 with 1 Axes>"
      ]
     },
     "metadata": {
      "needs_background": "light"
     },
     "output_type": "display_data"
    }
   ],
   "source": [
    "# original\n",
    "plt.scatter(ufos['longitude'], ufos['latitude'], c=np.log10(ufos['duration_seconds']))\n",
    "plt.show()"
   ]
  },
  {
   "cell_type": "code",
   "execution_count": 106,
   "metadata": {},
   "outputs": [
    {
     "data": {
      "text/plain": [
       "(0.001, 97836000.0)"
      ]
     },
     "execution_count": 106,
     "metadata": {},
     "output_type": "execute_result"
    }
   ],
   "source": [
    "ufos['duration_seconds'].min(), ufos['duration_seconds'].max()"
   ]
  },
  {
   "cell_type": "code",
   "execution_count": 128,
   "metadata": {},
   "outputs": [
    {
     "data": {
      "image/png": "[encoded data removed]",
      "text/plain": [
       "<Figure size 432x288 with 1 Axes>"
      ]
     },
     "metadata": {
      "needs_background": "light"
     },
     "output_type": "display_data"
    }
   ],
   "source": [
    "# downsampled\n",
    "plt.scatter(ufosDS['longitude'], ufosDS['latitude'], \n",
    "            c=np.log10(ufosDS['duration_seconds']), \n",
    "           cmap='PuRd')\n",
    "plt.show()"
   ]
  },
  {
   "cell_type": "code",
   "execution_count": 116,
   "metadata": {},
   "outputs": [
    {
     "data": {
      "text/plain": [
       "[<matplotlib.lines.Line2D at 0x7f8b88de0150>]"
      ]
     },
     "execution_count": 116,
     "metadata": {},
     "output_type": "execute_result"
    },
    {
     "data": {
      "image/png": "[encoded data removed]",
      "text/plain": [
       "<Figure size 432x288 with 1 Axes>"
      ]
     },
     "metadata": {
      "needs_background": "light"
     },
     "output_type": "display_data"
    }
   ],
   "source": [
    "plt.plot(np.log10(ufos['duration_seconds']))"
   ]
  },
  {
   "cell_type": "code",
   "execution_count": 120,
   "metadata": {},
   "outputs": [
    {
     "name": "stdout",
     "output_type": "stream",
     "text": [
      "I am numerical\n"
     ]
    }
   ],
   "source": [
    "if ufos['duration_seconds'].dtype == 'float64':\n",
    "    print('I am numerical')"
   ]
  },
  {
   "cell_type": "code",
   "execution_count": 122,
   "metadata": {},
   "outputs": [
    {
     "data": {
      "text/plain": [
       "Index(['date', 'city', 'state', 'country', 'shape', 'duration_seconds',\n",
       "       'duration', 'comment', 'report_date', 'latitude', 'longitude'],\n",
       "      dtype='object')"
      ]
     },
     "execution_count": 122,
     "metadata": {},
     "output_type": "execute_result"
    }
   ],
   "source": [
    "ufos.columns"
   ]
  },
  {
   "cell_type": "code",
   "execution_count": 124,
   "metadata": {},
   "outputs": [
    {
     "name": "stdout",
     "output_type": "stream",
     "text": [
      "I am not numerical\n"
     ]
    }
   ],
   "source": [
    "if ufos['shape'].dtype == 'O':\n",
    "    print('I am not numerical')"
   ]
  },
  {
   "cell_type": "code",
   "execution_count": 131,
   "metadata": {},
   "outputs": [
    {
     "data": {
      "text/plain": [
       "<BarContainer object of 29 artists>"
      ]
     },
     "execution_count": 131,
     "metadata": {},
     "output_type": "execute_result"
    },
    {
     "data": {
      "image/png": "[encoded data removed]",
      "text/plain": [
       "<Figure size 432x288 with 1 Axes>"
      ]
     },
     "metadata": {
      "needs_background": "light"
     },
     "output_type": "display_data"
    }
   ],
   "source": [
    "# hint\n",
    "bin_by = 'shape'\n",
    "myseries = ufos.groupby(bin_by)[bin_by].count()\n",
    "x = myseries.index\n",
    "y = myseries.values\n",
    "plt.bar(x, y)\n"
   ]
  },
  {
   "cell_type": "code",
   "execution_count": null,
   "metadata": {},
   "outputs": [],
   "source": []
  }
 ],
 "metadata": {
  "kernelspec": {
   "display_name": "Python 3",
   "language": "python",
   "name": "python3"
  },
  "language_info": {
   "codemirror_mode": {
    "name": "ipython",
    "version": 3
   },
   "file_extension": ".py",
   "mimetype": "text/x-python",
   "name": "python",
   "nbconvert_exporter": "python",
   "pygments_lexer": "ipython3",
   "version": "3.7.6"
  }
 },
 "nbformat": 4,
 "nbformat_minor": 4
}
